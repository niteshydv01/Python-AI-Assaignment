{
  "nbformat": 4,
  "nbformat_minor": 0,
  "metadata": {
    "colab": {
      "provenance": [],
      "authorship_tag": "ABX9TyNhW+JsJvU7DrxxvGFtFitn",
      "include_colab_link": true
    },
    "kernelspec": {
      "name": "python3",
      "display_name": "Python 3"
    },
    "language_info": {
      "name": "python"
    }
  },
  "cells": [
    {
      "cell_type": "markdown",
      "metadata": {
        "id": "view-in-github",
        "colab_type": "text"
      },
      "source": [
        "<a href=\"https://colab.research.google.com/github/niteshydv01/Python-AI-Assaignment/blob/main/AI_Assaignment2.ipynb\" target=\"_parent\"><img src=\"https://colab.research.google.com/assets/colab-badge.svg\" alt=\"Open In Colab\"/></a>"
      ]
    },
    {
      "cell_type": "markdown",
      "source": [
        "Given two jugs- a 4 liter and 3 liter capacity. Neither has any measurable markers on it. There\n",
        "is a pump which can be used to fill the jugs with water. Simulate the procedure in Python to get\n",
        "exactly 2 liter of water into 4-liter jug\n",
        "\n",
        "RULES ARE:\n",
        "1. (x, y) → (4, y)\n",
        "If x < 4, we can fill 4-Ljug completely.\n",
        "2. (x, y) → (x, 3)\n",
        "If y < 3, we can fill 3-L jug completely.\n",
        "3. (x, y) → (0, y)\n",
        "If x > 0 we can empty 4-L jug on ground\n",
        "4. (x, y) → (x, 0)\n",
        "If y > 0, Empty 3-L jug on ground\n",
        "5. (x, y) → (4, y - (4 - x))\n",
        "0 < x+y ≥ 4 and y > 0 Pour some water from 3-L jug to fill 4-L jug\n",
        "6. (x, y) → (x - (3-y), 3)\n",
        "0 < x+y ≥ 3 and x > 0; Pour some water from 4-L jug to fill 3-L jug\n",
        "7. (x, y) → (x+y, 0)\n",
        "0 < x+y < =4 and y ≥ 0 ; Pour all of water from 3-L jug into 4-Ljug\n",
        "8. (x, y) → (0, x+y)\n",
        "0 < x+y <= 3 and x ≥ 0 ; Pour all of water from 4-L jug into 3-Ljug\n",
        "9. (x, y) → (x-d, y)\n",
        "If x >0, pour some water out of 4-Ljug completely.\n",
        "10. (x, y) → (x, y-d)\n",
        "If y >0, pour some water out of 4-Ljug completely."
      ],
      "metadata": {
        "id": "8J0g0ZbDg8ig"
      }
    },
    {
      "cell_type": "code",
      "source": [
        "def fill(x):\n",
        "  wtr[x]=cap[x]\n",
        "  print(wtr)\n",
        "def empty(x):\n",
        "  wtr[x]=0\n",
        "  print(wtr)\n",
        "def transfer(x,y):\n",
        "  if cap[y]-wtr[y]>=wtr[x]:\n",
        "    wtr[y]=wtr[y]+wtr[x]\n",
        "    wtr[x]=0\n",
        "  elif cap[y]-wtr[y]<wtr[x]:\n",
        "    wtr[x]=wtr[x]-(cap[y]-wtr[y])\n",
        "    wtr[y]=cap[y]\n",
        "  print(wtr)\n",
        "\n",
        "\n",
        "\n",
        "wtr=[]\n",
        "cap=[]\n",
        "a=0\n",
        "b=1\n",
        "cap.append(int(input(\"Enter capacity of 1st jug : \")))\n",
        "cap.append(int(input(\"Enter capacity of 2nd jug : \")))\n",
        "req=int(input(\"Enter required amount of water : \"))\n",
        "print(\"Enter initial state\")\n",
        "wtr.append(int(input(\"Jug1 : \")))\n",
        "wtr.append(int(input(\"Jug2 : \")))\n",
        "if(cap[1]>cap[0]):\n",
        "  a=1\n",
        "  b=0\n",
        "\n",
        "flag=False\n",
        "while flag==False:\n",
        "  if wtr[a]==cap[a]:\n",
        "    empty(a)\n",
        "  if(wtr[b]!=req):\n",
        "    fill(b)\n",
        "    transfer(b,a)\n",
        "  if(wtr[b]==req):\n",
        "    empty(a)\n",
        "    transfer(b,a)\n",
        "    flag=True\n"
      ],
      "metadata": {
        "id": "NgAPFp9mtczZ",
        "colab": {
          "base_uri": "https://localhost:8080/"
        },
        "outputId": "228f85a7-af80-4ea6-b4e9-e1ab5a513942"
      },
      "execution_count": null,
      "outputs": [
        {
          "output_type": "stream",
          "name": "stdout",
          "text": [
            "Enter capacity of 1st jug : 4\n",
            "Enter capacity of 2nd jug : 3\n",
            "Enter required amount of water : 2\n",
            "Enter initial state\n",
            "Jug1 : 0\n",
            "Jug2 : 0\n",
            "[0, 3]\n",
            "[3, 0]\n",
            "[3, 3]\n",
            "[4, 2]\n",
            "[0, 2]\n",
            "[2, 0]\n"
          ]
        }
      ]
    },
    {
      "cell_type": "markdown",
      "source": [
        "Write a Python program to implement Travelling Salesman Problem (TSP). Take the starting\n",
        "node from the user at run time."
      ],
      "metadata": {
        "id": "5S2_NP0HgDU2"
      }
    },
    {
      "cell_type": "code",
      "source": [
        "from sys import maxsize\n",
        "from itertools import permutations\n",
        "v=4\n",
        "\n",
        "def tsp(g,s):\n",
        "   vertex=[]\n",
        "   for i in range(v):\n",
        "     if i!=s:\n",
        "       vertex.append(i)\n",
        "\n",
        "   min_cost= maxsize\n",
        "   next_permutation=permutations(vertex)\n",
        "\n",
        "   for i in next_permutation:\n",
        "        cost=0\n",
        "        p=s\n",
        "        for j in i:\n",
        "           cost += g[p][j]\n",
        "           p=j\n",
        "        cost += g[p][s]\n",
        "\n",
        "        min_cost=min(min_cost,cost)\n",
        "   return min_cost\n",
        "\n",
        "\n",
        "\n",
        "g=[[0,10,15,20],[10,0,35,25],[15,35,0,30],[20,25,30,0]]\n",
        "s=0;\n",
        "print(tsp(g,s))\n"
      ],
      "metadata": {
        "id": "kBZPubChiidW",
        "colab": {
          "base_uri": "https://localhost:8080/"
        },
        "outputId": "bd81f6ce-40d9-4bb8-897f-d0c48736b6a2"
      },
      "execution_count": null,
      "outputs": [
        {
          "output_type": "stream",
          "name": "stdout",
          "text": [
            "80\n"
          ]
        }
      ]
    },
    {
      "cell_type": "code",
      "source": [
        "def is_valid_move(x, y):\n",
        "    return 0 <= x < 3 and 0 <= y < 3\n",
        "\n",
        "def get_next_states(state):\n",
        "    moves = [(0, 1), (0, -1), (1, 0), (-1, 0)]\n",
        "    next_states = []\n",
        "    for i in range(3):\n",
        "        for j in range(3):\n",
        "            if state[i][j] == 0:\n",
        "                for dx, dy in moves:\n",
        "                    new_x, new_y = i + dx, j + dy\n",
        "                    if is_valid_move(new_x, new_y):\n",
        "                        new_state = [row[:] for row in state]\n",
        "                        new_state[i][j], new_state[new_x][new_y] = new_state[new_x][new_y], new_state[i][j]\n",
        "                        next_states.append(new_state)\n",
        "    return next_states\n",
        "\n",
        "def dfs(current_state, visited, goal_state):\n",
        "    if current_state == goal_state:\n",
        "        return True\n",
        "\n",
        "    visited.add(str(current_state))\n",
        "    print(current_state)\n",
        "    next_states = get_next_states(current_state)\n",
        "    for state in next_states:\n",
        "        if str(state) not in visited:\n",
        "            if dfs(state, visited, goal_state):\n",
        "                return True\n",
        "    return False\n",
        "\n",
        "def solve(initial_state):\n",
        "    goal_state = [[1, 2, 3], [4, 5, 6], [7, 8, 0]]\n",
        "    visited = set()\n",
        "    print(\"Initial state:\")\n",
        "    print(initial_state)\n",
        "    print(\"States encountered during DFS:\")\n",
        "    dfs(initial_state, visited, goal_state)\n",
        "    print(\"Solution found!\")\n",
        "\n",
        "\n",
        "# Example usage:\n",
        "initial_state = [[1, 2, 3], [4, 0, 5], [7, 8, 6]]\n",
        "solve(initial_state)\n"
      ],
      "metadata": {
        "colab": {
          "base_uri": "https://localhost:8080/"
        },
        "id": "29WxK08id2ZF",
        "outputId": "673877bc-ecc7-4a49-ea90-d48115195a75"
      },
      "execution_count": null,
      "outputs": [
        {
          "output_type": "stream",
          "name": "stdout",
          "text": [
            "Initial state:\n",
            "[[1, 2, 3], [4, 0, 5], [7, 8, 6]]\n",
            "States encountered during DFS:\n",
            "[[1, 2, 3], [4, 0, 5], [7, 8, 6]]\n",
            "[[1, 2, 3], [4, 5, 0], [7, 8, 6]]\n",
            "Solution found!\n"
          ]
        }
      ]
    }
  ]
}