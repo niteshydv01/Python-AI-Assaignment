{
  "nbformat": 4,
  "nbformat_minor": 0,
  "metadata": {
    "colab": {
      "provenance": [],
      "mount_file_id": "1rdShh9SxXWE9cVtHToyhEnPac3n8ZjhW",
      "authorship_tag": "ABX9TyNGb4CATxdegUdB25/ztwbZ",
      "include_colab_link": true
    },
    "kernelspec": {
      "name": "python3",
      "display_name": "Python 3"
    },
    "language_info": {
      "name": "python"
    }
  },
  "cells": [
    {
      "cell_type": "markdown",
      "metadata": {
        "id": "view-in-github",
        "colab_type": "text"
      },
      "source": [
        "<a href=\"https://colab.research.google.com/github/niteshydv01/Python-AI-Assaignment/blob/main/Assaignment1_AI.ipynb\" target=\"_parent\"><img src=\"https://colab.research.google.com/assets/colab-badge.svg\" alt=\"Open In Colab\"/></a>"
      ]
    },
    {
      "cell_type": "markdown",
      "source": [
        "A class with 10 students wants to produce some information from the results of the four standard\n",
        "tests in Maths, Science, English and IT. Each test is out of 100 marks. The information output\n",
        "should be the highest, lowest and average mark for each test and the highest, lowest and average\n",
        "mark overall. Write a program in Python to complete this task."
      ],
      "metadata": {
        "id": "L9WYpUukBpp9"
      }
    },
    {
      "cell_type": "code",
      "execution_count": null,
      "metadata": {
        "id": "m9S7Lqpn_tkE"
      },
      "outputs": [],
      "source": [
        "maths_marks = []\n",
        "science_marks = []\n",
        "english_marks = []\n",
        "it_marks = []\n",
        "\n",
        "for _ in range(10):\n",
        "    maths = int(input(\"Enter Maths marks: \"))\n",
        "    maths_marks.append(maths)\n",
        "\n",
        "    science = int(input(\"Enter Science marks: \"))\n",
        "    science_marks.append(science)\n",
        "\n",
        "    english = int(input(\"Enter English marks: \"))\n",
        "    english_marks.append(english)\n",
        "\n",
        "    it = int(input(\"Enter IT marks: \"))\n",
        "    it_marks.append(it)\n",
        "\n",
        "maths_highest = max(maths_marks)\n",
        "maths_lowest = min(maths_marks)\n",
        "maths_average = sum(maths_marks) / len(maths_marks)\n",
        "\n",
        "science_highest = max(science_marks)\n",
        "science_lowest = min(science_marks)\n",
        "science_average = sum(science_marks) / len(science_marks)\n",
        "\n",
        "english_highest = max(english_marks)\n",
        "english_lowest = min(english_marks)\n",
        "english_average = sum(english_marks) / len(english_marks)\n",
        "\n",
        "it_highest = max(it_marks)\n",
        "it_lowest = min(it_marks)\n",
        "it_average = sum(it_marks) / len(it_marks)\n",
        "\n",
        "all_marks = maths_marks + science_marks + english_marks + it_marks\n",
        "overall_highest = max(all_marks)\n",
        "overall_lowest = min(all_marks)\n",
        "overall_average = sum(all_marks) / len(all_marks)\n",
        "\n",
        "print(\"Maths - Highest:\", maths_highest, \"Lowest:\", maths_lowest, \"Average:\", maths_average)\n",
        "print(\"Science - Highest:\", science_highest, \"Lowest:\", science_lowest, \"Average:\", science_average)\n",
        "print(\"English - Highest:\", english_highest, \"Lowest:\", english_lowest, \"Average:\", english_average)\n",
        "print(\"IT - Highest:\", it_highest, \"Lowest:\", it_lowest, \"Average:\", it_average)\n",
        "print(\"Overall - Highest:\", overall_highest, \"Lowest:\", overall_lowest, \"Average:\", overall_average)\n"
      ]
    },
    {
      "cell_type": "markdown",
      "source": [
        "Write a Python Program to input basic salary of an employee and calculate its Gross salary\n",
        "according to following: Basic Salary <= 10000 : HRA = 20%, DA = 80% Basic Salary <= 20000\n",
        ": HRA = 25%, DA = 90% Basic Salary > 20000 : HRA = 30%, DA = 95%."
      ],
      "metadata": {
        "id": "DsM_LWq8B_Gi"
      }
    },
    {
      "cell_type": "code",
      "source": [
        "basic_salary = float(input(\"Enter the basic salary of the employee: \"))\n",
        "\n",
        "if basic_salary <= 10000:\n",
        "    hra_percentage = 0.20\n",
        "    da_percentage = 0.80\n",
        "elif 10000 < basic_salary <= 20000:\n",
        "    hra_percentage = 0.25\n",
        "    da_percentage = 0.90\n",
        "else:\n",
        "    hra_percentage = 0.30\n",
        "    da_percentage = 0.95\n",
        "\n",
        "\n",
        "hra = basic_salary * hra_percentage\n",
        "da = basic_salary * da_percentage\n",
        "gross_salary = basic_salary + hra + da\n",
        "\n",
        "print(\"Total salary is\",gross_salary)\n"
      ],
      "metadata": {
        "colab": {
          "base_uri": "https://localhost:8080/"
        },
        "id": "8KdcsdZPCANW",
        "outputId": "6d78163e-2ef8-45c5-bc4d-f73a4f9f6ef0"
      },
      "execution_count": null,
      "outputs": [
        {
          "output_type": "stream",
          "name": "stdout",
          "text": [
            "Enter the basic salary of the employee: 5000\n",
            "Total salary is 10000.0\n"
          ]
        }
      ]
    },
    {
      "cell_type": "markdown",
      "source": [
        "Write a Python program to check the validity of password input by users.\n",
        "\n",
        "Validation:\n",
        " At least 1 letter between [a-z] and 1 letter between [A-Z].\n",
        " At least 1 number between [0-9].\n",
        " At least 1 character from [$#@].\n",
        " Minimum length 6 characters.\n",
        " Maximum length 16 characters."
      ],
      "metadata": {
        "id": "Vilguo95DGIx"
      }
    },
    {
      "cell_type": "code",
      "source": [
        "password = input(\"Enter your password: \")\n",
        "if len(password) < 6:\n",
        "    print(\"Password is too short. Minimum length is 6 characters.\")\n",
        "elif len(password) > 16:\n",
        "    print(\"Password is too long. Maximum length is 16 characters.\")\n",
        "elif not any(char.islower() for char in password):\n",
        "    print(\"Password must contain at least 1 lowercase letter.\")\n",
        "elif not any(char.isupper() for char in password):\n",
        "    print(\"Password must contain at least 1 uppercase letter.\")\n",
        "elif not any(char.isdigit() for char in password):\n",
        "    print(\"Password must contain at least 1 digit.\")\n",
        "elif not any(char in ['$','#','@'] for char in password):\n",
        "    print(\"Password must contain at least 1 special character from [$,#,@].\")\n",
        "else:\n",
        "    print(\"Password is valid.\")\n"
      ],
      "metadata": {
        "colab": {
          "base_uri": "https://localhost:8080/"
        },
        "id": "kGIP_lNTDFnn",
        "outputId": "f10fd459-f01a-46b9-8072-161c19283183"
      },
      "execution_count": null,
      "outputs": [
        {
          "output_type": "stream",
          "name": "stdout",
          "text": [
            "Enter your password: 4567acA@\n",
            "Password is valid.\n"
          ]
        }
      ]
    },
    {
      "cell_type": "markdown",
      "source": [
        "Create a List L that is defined as= [10, 20, 30, 40, 50, 60, 70, 80].\n",
        "\n",
        "(i) WAP to add 200 and 300 to L.\n",
        "(ii) WAP to remove 10 and 30 from L.\n",
        "(iii) WAP to sort L in ascending order.\n",
        "(iv) WAP to sort L in descending order."
      ],
      "metadata": {
        "id": "ZKZh8n5QEuo-"
      }
    },
    {
      "cell_type": "code",
      "source": [
        "\n",
        "L = [10, 20, 30, 40, 50, 60, 70, 80]\n",
        "L.append(200)\n",
        "L.append(300)\n",
        "print(\"List after adding 200 and 300:\", L)\n",
        "\n",
        "L.remove(10)\n",
        "L.remove(30)\n",
        "\n",
        "print(\"List after removing 10 and 30:\", L)\n",
        "\n",
        "L.sort()\n",
        "\n",
        "print(\"List sorted in ascending order:\", L)\n",
        "\n",
        "L.sort(reverse=True)\n",
        "\n",
        "print(\" List sorted in descending order:\", L)\n"
      ],
      "metadata": {
        "colab": {
          "base_uri": "https://localhost:8080/"
        },
        "id": "j0ZBH28MEuAN",
        "outputId": "8e4a1e62-9337-4340-d956-f3a82b2d10d4"
      },
      "execution_count": null,
      "outputs": [
        {
          "output_type": "stream",
          "name": "stdout",
          "text": [
            "List after adding 200 and 300: [10, 20, 30, 40, 50, 60, 70, 80, 200, 300]\n",
            "List after removing 10 and 30: [20, 40, 50, 60, 70, 80, 200, 300]\n",
            "List sorted in ascending order: [20, 40, 50, 60, 70, 80, 200, 300]\n",
            " List sorted in descending order: [300, 200, 80, 70, 60, 50, 40, 20]\n"
          ]
        }
      ]
    },
    {
      "cell_type": "markdown",
      "source": [
        "D is a dictionary defined as D= {1:”One”, 2:”Two”, 3:”Three”, 4: “Four”, 5:”Five”}.\n",
        "\n",
        "(i) WAP to add new entry in D; key=6 and value is “Six”\n",
        "(ii) WAP to remove key=2.\n",
        "(iii) WAP to check if 6 key is present in D.\n",
        "(iv) WAP to count the number of elements present in D.\n",
        "(v) WAP to add all the values present D."
      ],
      "metadata": {
        "id": "u9smwjNJFiyT"
      }
    },
    {
      "cell_type": "code",
      "source": [
        " D= {1:\"One\", 2:\"Two\", 3:\"Three\", 4: \"Four\", 5:\"Five\"}\n",
        " D[6]=\"Six\"\n",
        " D\n",
        " del D[2]\n",
        " D\n",
        " print(\"6 is present in D\",6 in D)\n",
        " print(\"length of D is\",len(D))"
      ],
      "metadata": {
        "colab": {
          "base_uri": "https://localhost:8080/"
        },
        "id": "M6TEW17sFnUm",
        "outputId": "a234851a-b84c-4025-fcb1-7847466b4619"
      },
      "execution_count": null,
      "outputs": [
        {
          "output_type": "stream",
          "name": "stdout",
          "text": [
            "6 is present in D True\n",
            "length of D is 5\n"
          ]
        }
      ]
    },
    {
      "cell_type": "markdown",
      "source": [
        "WAP to create a list of 100 random numbers between 100 and 900. Count and print the:\n",
        "\n",
        "(i) All odd numbers\n",
        "(ii) All even numbers\n",
        "(iii) All prime numbers"
      ],
      "metadata": {
        "id": "WbdzO1qoHl6B"
      }
    },
    {
      "cell_type": "code",
      "source": [
        "import random\n",
        "\n",
        "random_numbers = [random.randint(100, 900) for _ in range(100)]\n",
        "\n",
        "odd_numbers = [num for num in random_numbers if num % 2 != 0]\n",
        "print(\"Odd numbers:\", odd_numbers)\n",
        "print(\"Count of odd numbers:\", len(odd_numbers))\n",
        "\n",
        "even_numbers = [num for num in random_numbers if num % 2 == 0]\n",
        "print(\"Even numbers:\", even_numbers)\n",
        "print(\"Count of even numbers:\", len(even_numbers))\n",
        "\n",
        "prime_numbers = []\n",
        "for num in random_numbers:\n",
        "    if num > 1:\n",
        "        is_prime = True\n",
        "        for i in range(2, int(num**0.5) + 1):\n",
        "            if num % i == 0:\n",
        "                is_prime = False\n",
        "                break\n",
        "        if is_prime:\n",
        "            prime_numbers.append(num)\n",
        "\n",
        "print(\"Prime numbers:\", prime_numbers)\n",
        "print(\"Count of prime numbers:\", len(prime_numbers))\n"
      ],
      "metadata": {
        "id": "d1TQHBEyHnFc",
        "colab": {
          "base_uri": "https://localhost:8080/"
        },
        "outputId": "6c859f8e-de3b-4168-b69c-7e9c26a35ab2"
      },
      "execution_count": null,
      "outputs": [
        {
          "output_type": "stream",
          "name": "stdout",
          "text": [
            "Odd numbers: [607, 481, 449, 257, 175, 329, 883, 501, 573, 595, 283, 795, 539, 359, 791, 323, 591, 583, 783, 807, 567, 243, 551, 565, 505, 825, 547, 193, 695, 643, 579, 483, 407, 183, 401, 789, 879, 167, 889, 799, 351, 751]\n",
            "Count of odd numbers: 42\n",
            "Even numbers: [366, 516, 160, 326, 626, 472, 894, 372, 220, 172, 352, 622, 420, 514, 672, 686, 672, 896, 584, 170, 118, 572, 268, 420, 134, 520, 754, 802, 576, 690, 142, 224, 144, 108, 126, 446, 772, 130, 814, 416, 416, 866, 588, 552, 894, 296, 400, 370, 204, 122, 180, 274, 332, 488, 180, 206, 836, 436]\n",
            "Count of even numbers: 58\n",
            "Prime numbers: [607, 449, 257, 883, 283, 359, 547, 193, 643, 401, 167, 751]\n",
            "Count of prime numbers: 12\n"
          ]
        }
      ]
    },
    {
      "cell_type": "markdown",
      "source": [
        "(i) Write a function which takes principal amount, interest rate and time. This function returns\n",
        "compound interest. Call this function to print the output.\n",
        "(ii) Save this function (as a module) in a python file and call it in another python file."
      ],
      "metadata": {
        "id": "-TKDhV6agNXL"
      }
    },
    {
      "cell_type": "code",
      "source": [
        "import compound\n",
        "print(compound.ci(40000,5,40,5))"
      ],
      "metadata": {
        "colab": {
          "base_uri": "https://localhost:8080/"
        },
        "id": "bZDz6pLFgOb-",
        "outputId": "0fb5f079-6375-446b-bc80-5ba3fb1b990b"
      },
      "execution_count": null,
      "outputs": [
        {
          "output_type": "stream",
          "name": "stdout",
          "text": [
            "-39993.15152480378\n"
          ]
        }
      ]
    }
  ]
}