{
  "nbformat": 4,
  "nbformat_minor": 0,
  "metadata": {
    "colab": {
      "provenance": [],
      "authorship_tag": "ABX9TyPwCrr16AV078P4clmkkFir",
      "include_colab_link": true
    },
    "kernelspec": {
      "name": "python3",
      "display_name": "Python 3"
    },
    "language_info": {
      "name": "python"
    }
  },
  "cells": [
    {
      "cell_type": "markdown",
      "metadata": {
        "id": "view-in-github",
        "colab_type": "text"
      },
      "source": [
        "<a href=\"https://colab.research.google.com/github/niteshydv01/Python-AI-Assaignment/blob/main/KNN_Salary_prediction.ipynb\" target=\"_parent\"><img src=\"https://colab.research.google.com/assets/colab-badge.svg\" alt=\"Open In Colab\"/></a>"
      ]
    },
    {
      "cell_type": "markdown",
      "source": [
        "Create a dataset (.csv file) having following features- experience of the candidate,\n",
        "written score, interview score and salary. Based on three input features, HR decide\n",
        "the salary of the selected candidates. Using this data, KNN model build a for HR\n",
        "department that can help them decide salaries of the candidates. Predict the salaries\n",
        "for the following candidates, by executing the model (for different values of K):\n",
        "(a) 5 Yrs experience, 8 written test score, 10 interview score\n",
        "(b) 8 Yrs experience, 7 written test score, 6 interview score\n"
      ],
      "metadata": {
        "id": "R3lOgSFKSnuf"
      }
    },
    {
      "cell_type": "code",
      "execution_count": null,
      "metadata": {
        "colab": {
          "base_uri": "https://localhost:8080/"
        },
        "id": "K8aY6EViEKHF",
        "outputId": "24cd9896-44cb-40b5-d0f0-ce207a014662"
      },
      "outputs": [
        {
          "output_type": "stream",
          "name": "stdout",
          "text": [
            "   Experience  Written Score  Interview Score  Salary\n",
            "0          13             11               37   64800\n",
            "1           2             64               60   81200\n",
            "2          16             56                8   66800\n",
            "3           8             85               64   95500\n",
            "4          17             18               48   76400\n"
          ]
        }
      ],
      "source": [
        "import pandas as pd\n",
        "import numpy as np\n",
        "\n",
        "num_entries = 1000\n",
        "\n",
        "experience = np.random.randint(0, 20, size=num_entries)\n",
        "written_score = np.random.randint(0, 100, size=num_entries)\n",
        "interview_score = np.random.randint(0, 100, size=num_entries)\n",
        "\n",
        "def calculate_salary(experience, written_score, interview_score):\n",
        "    base_salary = 30000  # Base salary\n",
        "    salary = base_salary + (experience * 1000) + (written_score * 300) + (interview_score * 500)\n",
        "    return salary\n",
        "\n",
        "\n",
        "salary = calculate_salary(experience, written_score, interview_score)\n",
        "\n",
        "\n",
        "df = pd.DataFrame({\n",
        "    'Experience': experience,\n",
        "    'Written Score': written_score,\n",
        "    'Interview Score': interview_score,\n",
        "    'Salary': salary\n",
        "})\n",
        "\n",
        "\n",
        "df.to_csv('candidate_dataset.csv', index=False)\n",
        "\n",
        "\n",
        "print(df.head())\n"
      ]
    },
    {
      "cell_type": "code",
      "source": [
        "from google.colab import files\n",
        "\n",
        "files.download('candidate_dataset.csv')\n"
      ],
      "metadata": {
        "colab": {
          "base_uri": "https://localhost:8080/",
          "height": 17
        },
        "id": "1cqVnHBlFrbF",
        "outputId": "f7c5bac5-4e90-4ea7-86e5-89960b35d39b"
      },
      "execution_count": null,
      "outputs": [
        {
          "output_type": "display_data",
          "data": {
            "text/plain": [
              "<IPython.core.display.Javascript object>"
            ],
            "application/javascript": [
              "\n",
              "    async function download(id, filename, size) {\n",
              "      if (!google.colab.kernel.accessAllowed) {\n",
              "        return;\n",
              "      }\n",
              "      const div = document.createElement('div');\n",
              "      const label = document.createElement('label');\n",
              "      label.textContent = `Downloading \"${filename}\": `;\n",
              "      div.appendChild(label);\n",
              "      const progress = document.createElement('progress');\n",
              "      progress.max = size;\n",
              "      div.appendChild(progress);\n",
              "      document.body.appendChild(div);\n",
              "\n",
              "      const buffers = [];\n",
              "      let downloaded = 0;\n",
              "\n",
              "      const channel = await google.colab.kernel.comms.open(id);\n",
              "      // Send a message to notify the kernel that we're ready.\n",
              "      channel.send({})\n",
              "\n",
              "      for await (const message of channel.messages) {\n",
              "        // Send a message to notify the kernel that we're ready.\n",
              "        channel.send({})\n",
              "        if (message.buffers) {\n",
              "          for (const buffer of message.buffers) {\n",
              "            buffers.push(buffer);\n",
              "            downloaded += buffer.byteLength;\n",
              "            progress.value = downloaded;\n",
              "          }\n",
              "        }\n",
              "      }\n",
              "      const blob = new Blob(buffers, {type: 'application/binary'});\n",
              "      const a = document.createElement('a');\n",
              "      a.href = window.URL.createObjectURL(blob);\n",
              "      a.download = filename;\n",
              "      div.appendChild(a);\n",
              "      a.click();\n",
              "      div.remove();\n",
              "    }\n",
              "  "
            ]
          },
          "metadata": {}
        },
        {
          "output_type": "display_data",
          "data": {
            "text/plain": [
              "<IPython.core.display.Javascript object>"
            ],
            "application/javascript": [
              "download(\"download_f5089230-2cf7-41fa-a291-550e51e00ce1\", \"candidate_dataset.csv\", 14421)"
            ]
          },
          "metadata": {}
        }
      ]
    },
    {
      "cell_type": "code",
      "source": [
        "df.shape"
      ],
      "metadata": {
        "colab": {
          "base_uri": "https://localhost:8080/"
        },
        "id": "Zoh54hCvGAfY",
        "outputId": "996bd376-e0b7-4850-f4c5-0db8d581f864"
      },
      "execution_count": null,
      "outputs": [
        {
          "output_type": "execute_result",
          "data": {
            "text/plain": [
              "(1000, 4)"
            ]
          },
          "metadata": {},
          "execution_count": 3
        }
      ]
    },
    {
      "cell_type": "code",
      "source": [
        "import numpy as np\n",
        "\n",
        "def euclidean_distance(x1, x2):\n",
        "    return np.sqrt(np.sum((x1 - x2)**2))\n",
        "\n",
        "def knn_predict(X_train, y_train, X_test, k=5):\n",
        "    predictions = []\n",
        "    for i in range(len(X_test)):\n",
        "        distances = np.array([euclidean_distance(X_test[i], x) for x in X_train])\n",
        "        nearest_neighbors = np.argsort(distances)[:k]\n",
        "        k_nearest_labels = [y_train[idx] for idx in nearest_neighbors]\n",
        "        most_common = max(set(k_nearest_labels), key=k_nearest_labels.count)\n",
        "        predictions.append(most_common)\n",
        "    return predictions\n",
        "\n"
      ],
      "metadata": {
        "id": "wy7ZhyJpHq9j"
      },
      "execution_count": null,
      "outputs": []
    },
    {
      "cell_type": "code",
      "source": [
        " output=df['Salary']\n",
        "\n",
        " df.drop('Salary', axis=1, inplace=True)"
      ],
      "metadata": {
        "id": "n5Ja2E0TIkb6"
      },
      "execution_count": null,
      "outputs": []
    },
    {
      "cell_type": "code",
      "source": [
        "print(output)"
      ],
      "metadata": {
        "colab": {
          "base_uri": "https://localhost:8080/"
        },
        "id": "8ZcS5r47JeAq",
        "outputId": "0f1555bf-6b20-4fc7-a8b1-365adf4c7269"
      },
      "execution_count": null,
      "outputs": [
        {
          "output_type": "stream",
          "name": "stdout",
          "text": [
            "0      64800\n",
            "1      81200\n",
            "2      66800\n",
            "3      95500\n",
            "4      76400\n",
            "       ...  \n",
            "995    66100\n",
            "996    82400\n",
            "997    88000\n",
            "998    80900\n",
            "999    48000\n",
            "Name: Salary, Length: 1000, dtype: int64\n"
          ]
        }
      ]
    },
    {
      "cell_type": "code",
      "source": [
        "df.head()"
      ],
      "metadata": {
        "colab": {
          "base_uri": "https://localhost:8080/",
          "height": 206
        },
        "id": "HYYKhj7nJins",
        "outputId": "4ca743a7-87e1-4f7f-e532-40485650c8e6"
      },
      "execution_count": null,
      "outputs": [
        {
          "output_type": "execute_result",
          "data": {
            "text/plain": [
              "   Experience  Written Score  Interview Score\n",
              "0          13             11               37\n",
              "1           2             64               60\n",
              "2          16             56                8\n",
              "3           8             85               64\n",
              "4          17             18               48"
            ],
            "text/html": [
              "\n",
              "  <div id=\"df-269d082f-1176-4fac-8640-dc72ec64b4c8\" class=\"colab-df-container\">\n",
              "    <div>\n",
              "<style scoped>\n",
              "    .dataframe tbody tr th:only-of-type {\n",
              "        vertical-align: middle;\n",
              "    }\n",
              "\n",
              "    .dataframe tbody tr th {\n",
              "        vertical-align: top;\n",
              "    }\n",
              "\n",
              "    .dataframe thead th {\n",
              "        text-align: right;\n",
              "    }\n",
              "</style>\n",
              "<table border=\"1\" class=\"dataframe\">\n",
              "  <thead>\n",
              "    <tr style=\"text-align: right;\">\n",
              "      <th></th>\n",
              "      <th>Experience</th>\n",
              "      <th>Written Score</th>\n",
              "      <th>Interview Score</th>\n",
              "    </tr>\n",
              "  </thead>\n",
              "  <tbody>\n",
              "    <tr>\n",
              "      <th>0</th>\n",
              "      <td>13</td>\n",
              "      <td>11</td>\n",
              "      <td>37</td>\n",
              "    </tr>\n",
              "    <tr>\n",
              "      <th>1</th>\n",
              "      <td>2</td>\n",
              "      <td>64</td>\n",
              "      <td>60</td>\n",
              "    </tr>\n",
              "    <tr>\n",
              "      <th>2</th>\n",
              "      <td>16</td>\n",
              "      <td>56</td>\n",
              "      <td>8</td>\n",
              "    </tr>\n",
              "    <tr>\n",
              "      <th>3</th>\n",
              "      <td>8</td>\n",
              "      <td>85</td>\n",
              "      <td>64</td>\n",
              "    </tr>\n",
              "    <tr>\n",
              "      <th>4</th>\n",
              "      <td>17</td>\n",
              "      <td>18</td>\n",
              "      <td>48</td>\n",
              "    </tr>\n",
              "  </tbody>\n",
              "</table>\n",
              "</div>\n",
              "    <div class=\"colab-df-buttons\">\n",
              "\n",
              "  <div class=\"colab-df-container\">\n",
              "    <button class=\"colab-df-convert\" onclick=\"convertToInteractive('df-269d082f-1176-4fac-8640-dc72ec64b4c8')\"\n",
              "            title=\"Convert this dataframe to an interactive table.\"\n",
              "            style=\"display:none;\">\n",
              "\n",
              "  <svg xmlns=\"http://www.w3.org/2000/svg\" height=\"24px\" viewBox=\"0 -960 960 960\">\n",
              "    <path d=\"M120-120v-720h720v720H120Zm60-500h600v-160H180v160Zm220 220h160v-160H400v160Zm0 220h160v-160H400v160ZM180-400h160v-160H180v160Zm440 0h160v-160H620v160ZM180-180h160v-160H180v160Zm440 0h160v-160H620v160Z\"/>\n",
              "  </svg>\n",
              "    </button>\n",
              "\n",
              "  <style>\n",
              "    .colab-df-container {\n",
              "      display:flex;\n",
              "      gap: 12px;\n",
              "    }\n",
              "\n",
              "    .colab-df-convert {\n",
              "      background-color: #E8F0FE;\n",
              "      border: none;\n",
              "      border-radius: 50%;\n",
              "      cursor: pointer;\n",
              "      display: none;\n",
              "      fill: #1967D2;\n",
              "      height: 32px;\n",
              "      padding: 0 0 0 0;\n",
              "      width: 32px;\n",
              "    }\n",
              "\n",
              "    .colab-df-convert:hover {\n",
              "      background-color: #E2EBFA;\n",
              "      box-shadow: 0px 1px 2px rgba(60, 64, 67, 0.3), 0px 1px 3px 1px rgba(60, 64, 67, 0.15);\n",
              "      fill: #174EA6;\n",
              "    }\n",
              "\n",
              "    .colab-df-buttons div {\n",
              "      margin-bottom: 4px;\n",
              "    }\n",
              "\n",
              "    [theme=dark] .colab-df-convert {\n",
              "      background-color: #3B4455;\n",
              "      fill: #D2E3FC;\n",
              "    }\n",
              "\n",
              "    [theme=dark] .colab-df-convert:hover {\n",
              "      background-color: #434B5C;\n",
              "      box-shadow: 0px 1px 3px 1px rgba(0, 0, 0, 0.15);\n",
              "      filter: drop-shadow(0px 1px 2px rgba(0, 0, 0, 0.3));\n",
              "      fill: #FFFFFF;\n",
              "    }\n",
              "  </style>\n",
              "\n",
              "    <script>\n",
              "      const buttonEl =\n",
              "        document.querySelector('#df-269d082f-1176-4fac-8640-dc72ec64b4c8 button.colab-df-convert');\n",
              "      buttonEl.style.display =\n",
              "        google.colab.kernel.accessAllowed ? 'block' : 'none';\n",
              "\n",
              "      async function convertToInteractive(key) {\n",
              "        const element = document.querySelector('#df-269d082f-1176-4fac-8640-dc72ec64b4c8');\n",
              "        const dataTable =\n",
              "          await google.colab.kernel.invokeFunction('convertToInteractive',\n",
              "                                                    [key], {});\n",
              "        if (!dataTable) return;\n",
              "\n",
              "        const docLinkHtml = 'Like what you see? Visit the ' +\n",
              "          '<a target=\"_blank\" href=https://colab.research.google.com/notebooks/data_table.ipynb>data table notebook</a>'\n",
              "          + ' to learn more about interactive tables.';\n",
              "        element.innerHTML = '';\n",
              "        dataTable['output_type'] = 'display_data';\n",
              "        await google.colab.output.renderOutput(dataTable, element);\n",
              "        const docLink = document.createElement('div');\n",
              "        docLink.innerHTML = docLinkHtml;\n",
              "        element.appendChild(docLink);\n",
              "      }\n",
              "    </script>\n",
              "  </div>\n",
              "\n",
              "\n",
              "<div id=\"df-a7a4c9ea-7822-4a09-9dbb-e346c0fedc1c\">\n",
              "  <button class=\"colab-df-quickchart\" onclick=\"quickchart('df-a7a4c9ea-7822-4a09-9dbb-e346c0fedc1c')\"\n",
              "            title=\"Suggest charts\"\n",
              "            style=\"display:none;\">\n",
              "\n",
              "<svg xmlns=\"http://www.w3.org/2000/svg\" height=\"24px\"viewBox=\"0 0 24 24\"\n",
              "     width=\"24px\">\n",
              "    <g>\n",
              "        <path d=\"M19 3H5c-1.1 0-2 .9-2 2v14c0 1.1.9 2 2 2h14c1.1 0 2-.9 2-2V5c0-1.1-.9-2-2-2zM9 17H7v-7h2v7zm4 0h-2V7h2v10zm4 0h-2v-4h2v4z\"/>\n",
              "    </g>\n",
              "</svg>\n",
              "  </button>\n",
              "\n",
              "<style>\n",
              "  .colab-df-quickchart {\n",
              "      --bg-color: #E8F0FE;\n",
              "      --fill-color: #1967D2;\n",
              "      --hover-bg-color: #E2EBFA;\n",
              "      --hover-fill-color: #174EA6;\n",
              "      --disabled-fill-color: #AAA;\n",
              "      --disabled-bg-color: #DDD;\n",
              "  }\n",
              "\n",
              "  [theme=dark] .colab-df-quickchart {\n",
              "      --bg-color: #3B4455;\n",
              "      --fill-color: #D2E3FC;\n",
              "      --hover-bg-color: #434B5C;\n",
              "      --hover-fill-color: #FFFFFF;\n",
              "      --disabled-bg-color: #3B4455;\n",
              "      --disabled-fill-color: #666;\n",
              "  }\n",
              "\n",
              "  .colab-df-quickchart {\n",
              "    background-color: var(--bg-color);\n",
              "    border: none;\n",
              "    border-radius: 50%;\n",
              "    cursor: pointer;\n",
              "    display: none;\n",
              "    fill: var(--fill-color);\n",
              "    height: 32px;\n",
              "    padding: 0;\n",
              "    width: 32px;\n",
              "  }\n",
              "\n",
              "  .colab-df-quickchart:hover {\n",
              "    background-color: var(--hover-bg-color);\n",
              "    box-shadow: 0 1px 2px rgba(60, 64, 67, 0.3), 0 1px 3px 1px rgba(60, 64, 67, 0.15);\n",
              "    fill: var(--button-hover-fill-color);\n",
              "  }\n",
              "\n",
              "  .colab-df-quickchart-complete:disabled,\n",
              "  .colab-df-quickchart-complete:disabled:hover {\n",
              "    background-color: var(--disabled-bg-color);\n",
              "    fill: var(--disabled-fill-color);\n",
              "    box-shadow: none;\n",
              "  }\n",
              "\n",
              "  .colab-df-spinner {\n",
              "    border: 2px solid var(--fill-color);\n",
              "    border-color: transparent;\n",
              "    border-bottom-color: var(--fill-color);\n",
              "    animation:\n",
              "      spin 1s steps(1) infinite;\n",
              "  }\n",
              "\n",
              "  @keyframes spin {\n",
              "    0% {\n",
              "      border-color: transparent;\n",
              "      border-bottom-color: var(--fill-color);\n",
              "      border-left-color: var(--fill-color);\n",
              "    }\n",
              "    20% {\n",
              "      border-color: transparent;\n",
              "      border-left-color: var(--fill-color);\n",
              "      border-top-color: var(--fill-color);\n",
              "    }\n",
              "    30% {\n",
              "      border-color: transparent;\n",
              "      border-left-color: var(--fill-color);\n",
              "      border-top-color: var(--fill-color);\n",
              "      border-right-color: var(--fill-color);\n",
              "    }\n",
              "    40% {\n",
              "      border-color: transparent;\n",
              "      border-right-color: var(--fill-color);\n",
              "      border-top-color: var(--fill-color);\n",
              "    }\n",
              "    60% {\n",
              "      border-color: transparent;\n",
              "      border-right-color: var(--fill-color);\n",
              "    }\n",
              "    80% {\n",
              "      border-color: transparent;\n",
              "      border-right-color: var(--fill-color);\n",
              "      border-bottom-color: var(--fill-color);\n",
              "    }\n",
              "    90% {\n",
              "      border-color: transparent;\n",
              "      border-bottom-color: var(--fill-color);\n",
              "    }\n",
              "  }\n",
              "</style>\n",
              "\n",
              "  <script>\n",
              "    async function quickchart(key) {\n",
              "      const quickchartButtonEl =\n",
              "        document.querySelector('#' + key + ' button');\n",
              "      quickchartButtonEl.disabled = true;  // To prevent multiple clicks.\n",
              "      quickchartButtonEl.classList.add('colab-df-spinner');\n",
              "      try {\n",
              "        const charts = await google.colab.kernel.invokeFunction(\n",
              "            'suggestCharts', [key], {});\n",
              "      } catch (error) {\n",
              "        console.error('Error during call to suggestCharts:', error);\n",
              "      }\n",
              "      quickchartButtonEl.classList.remove('colab-df-spinner');\n",
              "      quickchartButtonEl.classList.add('colab-df-quickchart-complete');\n",
              "    }\n",
              "    (() => {\n",
              "      let quickchartButtonEl =\n",
              "        document.querySelector('#df-a7a4c9ea-7822-4a09-9dbb-e346c0fedc1c button');\n",
              "      quickchartButtonEl.style.display =\n",
              "        google.colab.kernel.accessAllowed ? 'block' : 'none';\n",
              "    })();\n",
              "  </script>\n",
              "</div>\n",
              "\n",
              "    </div>\n",
              "  </div>\n"
            ],
            "application/vnd.google.colaboratory.intrinsic+json": {
              "type": "dataframe",
              "variable_name": "df",
              "summary": "{\n  \"name\": \"df\",\n  \"rows\": 1000,\n  \"fields\": [\n    {\n      \"column\": \"Experience\",\n      \"properties\": {\n        \"dtype\": \"number\",\n        \"std\": 5,\n        \"min\": 0,\n        \"max\": 19,\n        \"num_unique_values\": 20,\n        \"samples\": [\n          13,\n          6,\n          4\n        ],\n        \"semantic_type\": \"\",\n        \"description\": \"\"\n      }\n    },\n    {\n      \"column\": \"Written Score\",\n      \"properties\": {\n        \"dtype\": \"number\",\n        \"std\": 28,\n        \"min\": 0,\n        \"max\": 99,\n        \"num_unique_values\": 100,\n        \"samples\": [\n          78,\n          98,\n          9\n        ],\n        \"semantic_type\": \"\",\n        \"description\": \"\"\n      }\n    },\n    {\n      \"column\": \"Interview Score\",\n      \"properties\": {\n        \"dtype\": \"number\",\n        \"std\": 29,\n        \"min\": 0,\n        \"max\": 99,\n        \"num_unique_values\": 100,\n        \"samples\": [\n          6,\n          33,\n          15\n        ],\n        \"semantic_type\": \"\",\n        \"description\": \"\"\n      }\n    }\n  ]\n}"
            }
          },
          "metadata": {},
          "execution_count": 10
        }
      ]
    },
    {
      "cell_type": "code",
      "source": [
        "from sklearn.model_selection import train_test_split"
      ],
      "metadata": {
        "id": "WFaThUanJxTS"
      },
      "execution_count": null,
      "outputs": []
    },
    {
      "cell_type": "code",
      "source": [
        "# Split data into training and test sets\n",
        "train_data, test_data, train_output,test_output = train_test_split(df, output, test_size=0.2, random_state=42)\n"
      ],
      "metadata": {
        "id": "91YAkjJ4J6F4"
      },
      "execution_count": null,
      "outputs": []
    },
    {
      "cell_type": "code",
      "source": [
        "train_data.shape"
      ],
      "metadata": {
        "colab": {
          "base_uri": "https://localhost:8080/"
        },
        "id": "6FXXCaiRKIrH",
        "outputId": "203aa513-c4e2-435a-e9db-a139c7378046"
      },
      "execution_count": null,
      "outputs": [
        {
          "output_type": "execute_result",
          "data": {
            "text/plain": [
              "(800, 3)"
            ]
          },
          "metadata": {},
          "execution_count": 17
        }
      ]
    },
    {
      "cell_type": "code",
      "source": [
        "train_data.head()"
      ],
      "metadata": {
        "colab": {
          "base_uri": "https://localhost:8080/",
          "height": 206
        },
        "id": "e5YdBSp0LAbi",
        "outputId": "4a882bb4-5f6b-4dbb-ec49-fbebf6eed55d"
      },
      "execution_count": null,
      "outputs": [
        {
          "output_type": "execute_result",
          "data": {
            "text/plain": [
              "     Experience  Written Score  Interview Score\n",
              "29            2             75               39\n",
              "535          14             26               97\n",
              "695           9             95                3\n",
              "557          19             11               95\n",
              "836          10             41               68"
            ],
            "text/html": [
              "\n",
              "  <div id=\"df-eef8a43a-e1fa-419a-8d76-1ffcd3c1e96d\" class=\"colab-df-container\">\n",
              "    <div>\n",
              "<style scoped>\n",
              "    .dataframe tbody tr th:only-of-type {\n",
              "        vertical-align: middle;\n",
              "    }\n",
              "\n",
              "    .dataframe tbody tr th {\n",
              "        vertical-align: top;\n",
              "    }\n",
              "\n",
              "    .dataframe thead th {\n",
              "        text-align: right;\n",
              "    }\n",
              "</style>\n",
              "<table border=\"1\" class=\"dataframe\">\n",
              "  <thead>\n",
              "    <tr style=\"text-align: right;\">\n",
              "      <th></th>\n",
              "      <th>Experience</th>\n",
              "      <th>Written Score</th>\n",
              "      <th>Interview Score</th>\n",
              "    </tr>\n",
              "  </thead>\n",
              "  <tbody>\n",
              "    <tr>\n",
              "      <th>29</th>\n",
              "      <td>2</td>\n",
              "      <td>75</td>\n",
              "      <td>39</td>\n",
              "    </tr>\n",
              "    <tr>\n",
              "      <th>535</th>\n",
              "      <td>14</td>\n",
              "      <td>26</td>\n",
              "      <td>97</td>\n",
              "    </tr>\n",
              "    <tr>\n",
              "      <th>695</th>\n",
              "      <td>9</td>\n",
              "      <td>95</td>\n",
              "      <td>3</td>\n",
              "    </tr>\n",
              "    <tr>\n",
              "      <th>557</th>\n",
              "      <td>19</td>\n",
              "      <td>11</td>\n",
              "      <td>95</td>\n",
              "    </tr>\n",
              "    <tr>\n",
              "      <th>836</th>\n",
              "      <td>10</td>\n",
              "      <td>41</td>\n",
              "      <td>68</td>\n",
              "    </tr>\n",
              "  </tbody>\n",
              "</table>\n",
              "</div>\n",
              "    <div class=\"colab-df-buttons\">\n",
              "\n",
              "  <div class=\"colab-df-container\">\n",
              "    <button class=\"colab-df-convert\" onclick=\"convertToInteractive('df-eef8a43a-e1fa-419a-8d76-1ffcd3c1e96d')\"\n",
              "            title=\"Convert this dataframe to an interactive table.\"\n",
              "            style=\"display:none;\">\n",
              "\n",
              "  <svg xmlns=\"http://www.w3.org/2000/svg\" height=\"24px\" viewBox=\"0 -960 960 960\">\n",
              "    <path d=\"M120-120v-720h720v720H120Zm60-500h600v-160H180v160Zm220 220h160v-160H400v160Zm0 220h160v-160H400v160ZM180-400h160v-160H180v160Zm440 0h160v-160H620v160ZM180-180h160v-160H180v160Zm440 0h160v-160H620v160Z\"/>\n",
              "  </svg>\n",
              "    </button>\n",
              "\n",
              "  <style>\n",
              "    .colab-df-container {\n",
              "      display:flex;\n",
              "      gap: 12px;\n",
              "    }\n",
              "\n",
              "    .colab-df-convert {\n",
              "      background-color: #E8F0FE;\n",
              "      border: none;\n",
              "      border-radius: 50%;\n",
              "      cursor: pointer;\n",
              "      display: none;\n",
              "      fill: #1967D2;\n",
              "      height: 32px;\n",
              "      padding: 0 0 0 0;\n",
              "      width: 32px;\n",
              "    }\n",
              "\n",
              "    .colab-df-convert:hover {\n",
              "      background-color: #E2EBFA;\n",
              "      box-shadow: 0px 1px 2px rgba(60, 64, 67, 0.3), 0px 1px 3px 1px rgba(60, 64, 67, 0.15);\n",
              "      fill: #174EA6;\n",
              "    }\n",
              "\n",
              "    .colab-df-buttons div {\n",
              "      margin-bottom: 4px;\n",
              "    }\n",
              "\n",
              "    [theme=dark] .colab-df-convert {\n",
              "      background-color: #3B4455;\n",
              "      fill: #D2E3FC;\n",
              "    }\n",
              "\n",
              "    [theme=dark] .colab-df-convert:hover {\n",
              "      background-color: #434B5C;\n",
              "      box-shadow: 0px 1px 3px 1px rgba(0, 0, 0, 0.15);\n",
              "      filter: drop-shadow(0px 1px 2px rgba(0, 0, 0, 0.3));\n",
              "      fill: #FFFFFF;\n",
              "    }\n",
              "  </style>\n",
              "\n",
              "    <script>\n",
              "      const buttonEl =\n",
              "        document.querySelector('#df-eef8a43a-e1fa-419a-8d76-1ffcd3c1e96d button.colab-df-convert');\n",
              "      buttonEl.style.display =\n",
              "        google.colab.kernel.accessAllowed ? 'block' : 'none';\n",
              "\n",
              "      async function convertToInteractive(key) {\n",
              "        const element = document.querySelector('#df-eef8a43a-e1fa-419a-8d76-1ffcd3c1e96d');\n",
              "        const dataTable =\n",
              "          await google.colab.kernel.invokeFunction('convertToInteractive',\n",
              "                                                    [key], {});\n",
              "        if (!dataTable) return;\n",
              "\n",
              "        const docLinkHtml = 'Like what you see? Visit the ' +\n",
              "          '<a target=\"_blank\" href=https://colab.research.google.com/notebooks/data_table.ipynb>data table notebook</a>'\n",
              "          + ' to learn more about interactive tables.';\n",
              "        element.innerHTML = '';\n",
              "        dataTable['output_type'] = 'display_data';\n",
              "        await google.colab.output.renderOutput(dataTable, element);\n",
              "        const docLink = document.createElement('div');\n",
              "        docLink.innerHTML = docLinkHtml;\n",
              "        element.appendChild(docLink);\n",
              "      }\n",
              "    </script>\n",
              "  </div>\n",
              "\n",
              "\n",
              "<div id=\"df-2a91db9f-0c7a-40fb-af8e-2ca620970254\">\n",
              "  <button class=\"colab-df-quickchart\" onclick=\"quickchart('df-2a91db9f-0c7a-40fb-af8e-2ca620970254')\"\n",
              "            title=\"Suggest charts\"\n",
              "            style=\"display:none;\">\n",
              "\n",
              "<svg xmlns=\"http://www.w3.org/2000/svg\" height=\"24px\"viewBox=\"0 0 24 24\"\n",
              "     width=\"24px\">\n",
              "    <g>\n",
              "        <path d=\"M19 3H5c-1.1 0-2 .9-2 2v14c0 1.1.9 2 2 2h14c1.1 0 2-.9 2-2V5c0-1.1-.9-2-2-2zM9 17H7v-7h2v7zm4 0h-2V7h2v10zm4 0h-2v-4h2v4z\"/>\n",
              "    </g>\n",
              "</svg>\n",
              "  </button>\n",
              "\n",
              "<style>\n",
              "  .colab-df-quickchart {\n",
              "      --bg-color: #E8F0FE;\n",
              "      --fill-color: #1967D2;\n",
              "      --hover-bg-color: #E2EBFA;\n",
              "      --hover-fill-color: #174EA6;\n",
              "      --disabled-fill-color: #AAA;\n",
              "      --disabled-bg-color: #DDD;\n",
              "  }\n",
              "\n",
              "  [theme=dark] .colab-df-quickchart {\n",
              "      --bg-color: #3B4455;\n",
              "      --fill-color: #D2E3FC;\n",
              "      --hover-bg-color: #434B5C;\n",
              "      --hover-fill-color: #FFFFFF;\n",
              "      --disabled-bg-color: #3B4455;\n",
              "      --disabled-fill-color: #666;\n",
              "  }\n",
              "\n",
              "  .colab-df-quickchart {\n",
              "    background-color: var(--bg-color);\n",
              "    border: none;\n",
              "    border-radius: 50%;\n",
              "    cursor: pointer;\n",
              "    display: none;\n",
              "    fill: var(--fill-color);\n",
              "    height: 32px;\n",
              "    padding: 0;\n",
              "    width: 32px;\n",
              "  }\n",
              "\n",
              "  .colab-df-quickchart:hover {\n",
              "    background-color: var(--hover-bg-color);\n",
              "    box-shadow: 0 1px 2px rgba(60, 64, 67, 0.3), 0 1px 3px 1px rgba(60, 64, 67, 0.15);\n",
              "    fill: var(--button-hover-fill-color);\n",
              "  }\n",
              "\n",
              "  .colab-df-quickchart-complete:disabled,\n",
              "  .colab-df-quickchart-complete:disabled:hover {\n",
              "    background-color: var(--disabled-bg-color);\n",
              "    fill: var(--disabled-fill-color);\n",
              "    box-shadow: none;\n",
              "  }\n",
              "\n",
              "  .colab-df-spinner {\n",
              "    border: 2px solid var(--fill-color);\n",
              "    border-color: transparent;\n",
              "    border-bottom-color: var(--fill-color);\n",
              "    animation:\n",
              "      spin 1s steps(1) infinite;\n",
              "  }\n",
              "\n",
              "  @keyframes spin {\n",
              "    0% {\n",
              "      border-color: transparent;\n",
              "      border-bottom-color: var(--fill-color);\n",
              "      border-left-color: var(--fill-color);\n",
              "    }\n",
              "    20% {\n",
              "      border-color: transparent;\n",
              "      border-left-color: var(--fill-color);\n",
              "      border-top-color: var(--fill-color);\n",
              "    }\n",
              "    30% {\n",
              "      border-color: transparent;\n",
              "      border-left-color: var(--fill-color);\n",
              "      border-top-color: var(--fill-color);\n",
              "      border-right-color: var(--fill-color);\n",
              "    }\n",
              "    40% {\n",
              "      border-color: transparent;\n",
              "      border-right-color: var(--fill-color);\n",
              "      border-top-color: var(--fill-color);\n",
              "    }\n",
              "    60% {\n",
              "      border-color: transparent;\n",
              "      border-right-color: var(--fill-color);\n",
              "    }\n",
              "    80% {\n",
              "      border-color: transparent;\n",
              "      border-right-color: var(--fill-color);\n",
              "      border-bottom-color: var(--fill-color);\n",
              "    }\n",
              "    90% {\n",
              "      border-color: transparent;\n",
              "      border-bottom-color: var(--fill-color);\n",
              "    }\n",
              "  }\n",
              "</style>\n",
              "\n",
              "  <script>\n",
              "    async function quickchart(key) {\n",
              "      const quickchartButtonEl =\n",
              "        document.querySelector('#' + key + ' button');\n",
              "      quickchartButtonEl.disabled = true;  // To prevent multiple clicks.\n",
              "      quickchartButtonEl.classList.add('colab-df-spinner');\n",
              "      try {\n",
              "        const charts = await google.colab.kernel.invokeFunction(\n",
              "            'suggestCharts', [key], {});\n",
              "      } catch (error) {\n",
              "        console.error('Error during call to suggestCharts:', error);\n",
              "      }\n",
              "      quickchartButtonEl.classList.remove('colab-df-spinner');\n",
              "      quickchartButtonEl.classList.add('colab-df-quickchart-complete');\n",
              "    }\n",
              "    (() => {\n",
              "      let quickchartButtonEl =\n",
              "        document.querySelector('#df-2a91db9f-0c7a-40fb-af8e-2ca620970254 button');\n",
              "      quickchartButtonEl.style.display =\n",
              "        google.colab.kernel.accessAllowed ? 'block' : 'none';\n",
              "    })();\n",
              "  </script>\n",
              "</div>\n",
              "\n",
              "    </div>\n",
              "  </div>\n"
            ],
            "application/vnd.google.colaboratory.intrinsic+json": {
              "type": "dataframe",
              "variable_name": "train_data",
              "summary": "{\n  \"name\": \"train_data\",\n  \"rows\": 800,\n  \"fields\": [\n    {\n      \"column\": \"Experience\",\n      \"properties\": {\n        \"dtype\": \"number\",\n        \"std\": 5,\n        \"min\": 0,\n        \"max\": 19,\n        \"num_unique_values\": 20,\n        \"samples\": [\n          2,\n          18,\n          6\n        ],\n        \"semantic_type\": \"\",\n        \"description\": \"\"\n      }\n    },\n    {\n      \"column\": \"Written Score\",\n      \"properties\": {\n        \"dtype\": \"number\",\n        \"std\": 28,\n        \"min\": 0,\n        \"max\": 99,\n        \"num_unique_values\": 100,\n        \"samples\": [\n          12,\n          3,\n          66\n        ],\n        \"semantic_type\": \"\",\n        \"description\": \"\"\n      }\n    },\n    {\n      \"column\": \"Interview Score\",\n      \"properties\": {\n        \"dtype\": \"number\",\n        \"std\": 29,\n        \"min\": 0,\n        \"max\": 99,\n        \"num_unique_values\": 100,\n        \"samples\": [\n          50,\n          44,\n          71\n        ],\n        \"semantic_type\": \"\",\n        \"description\": \"\"\n      }\n    }\n  ]\n}"
            }
          },
          "metadata": {},
          "execution_count": 19
        }
      ]
    },
    {
      "cell_type": "code",
      "source": [
        "train_data=train_data.values"
      ],
      "metadata": {
        "id": "YDJG-E9HKzwq"
      },
      "execution_count": null,
      "outputs": []
    },
    {
      "cell_type": "code",
      "source": [
        "print(train_data)"
      ],
      "metadata": {
        "colab": {
          "base_uri": "https://localhost:8080/"
        },
        "id": "YA6eFw5FK40T",
        "outputId": "0e643857-cc95-4e58-8c8a-afa6fd4a6fa9"
      },
      "execution_count": null,
      "outputs": [
        {
          "output_type": "stream",
          "name": "stdout",
          "text": [
            "[[ 2 75 39]\n",
            " [14 26 97]\n",
            " [ 9 95  3]\n",
            " ...\n",
            " [12 13 63]\n",
            " [ 2 73 95]\n",
            " [12 81 47]]\n"
          ]
        }
      ]
    },
    {
      "cell_type": "code",
      "source": [
        "test_data=test_data.values\n",
        "train_output=train_output.values\n",
        "test_output=test_output.values\n"
      ],
      "metadata": {
        "id": "9UptNCUDLHs6"
      },
      "execution_count": null,
      "outputs": []
    },
    {
      "cell_type": "code",
      "source": [
        "test_pred=knn_predict(train_data,train_output,train_output)"
      ],
      "metadata": {
        "id": "Gm7x3HrlLf4n"
      },
      "execution_count": null,
      "outputs": []
    },
    {
      "cell_type": "code",
      "source": [
        "print(test_pred)"
      ],
      "metadata": {
        "colab": {
          "base_uri": "https://localhost:8080/"
        },
        "id": "Vy1E7fMRL706",
        "outputId": "888102ef-55bf-42d4-8584-554b9647c84c"
      },
      "execution_count": null,
      "outputs": [
        {
          "output_type": "stream",
          "name": "stdout",
          "text": [
            "[119300, 119300, 119300, 119300, 119300, 119300, 119300, 119300, 119300, 119300, 119300, 119300, 119300, 119300, 119300, 119300, 119300, 119300, 119300, 119300, 119300, 119300, 119300, 119300, 119300, 119300, 119300, 119300, 119300, 119300, 119300, 119300, 119300, 119300, 119300, 119300, 119300, 119300, 119300, 119300, 119300, 119300, 119300, 119300, 119300, 119300, 119300, 119300, 119300, 119300, 119300, 119300, 119300, 119300, 119300, 119300, 119300, 119300, 119300, 119300, 119300, 119300, 119300, 119300, 119300, 119300, 119300, 119300, 119300, 119300, 119300, 119300, 119300, 119300, 119300, 119300, 119300, 119300, 119300, 119300, 119300, 119300, 119300, 119300, 119300, 119300, 119300, 119300, 119300, 119300, 119300, 119300, 119300, 119300, 119300, 119300, 119300, 119300, 119300, 119300, 119300, 119300, 119300, 119300, 119300, 119300, 119300, 119300, 119300, 119300, 119300, 119300, 119300, 119300, 119300, 119300, 119300, 119300, 119300, 119300, 119300, 119300, 119300, 119300, 119300, 119300, 119300, 119300, 119300, 119300, 119300, 119300, 119300, 119300, 119300, 119300, 119300, 119300, 119300, 119300, 119300, 119300, 119300, 119300, 119300, 119300, 119300, 119300, 119300, 119300, 119300, 119300, 119300, 119300, 119300, 119300, 119300, 119300, 119300, 119300, 119300, 119300, 119300, 119300, 119300, 119300, 119300, 119300, 119300, 119300, 119300, 119300, 119300, 119300, 119300, 119300, 119300, 119300, 119300, 119300, 119300, 119300, 119300, 119300, 119300, 119300, 119300, 119300, 119300, 119300, 119300, 119300, 119300, 119300, 119300, 119300, 119300, 119300, 119300, 119300, 119300, 119300, 119300, 119300, 119300, 119300, 119300, 119300, 119300, 119300, 119300, 119300, 119300, 119300, 119300, 119300, 119300, 119300, 119300, 119300, 119300, 119300, 119300, 119300, 119300, 119300, 119300, 119300, 119300, 119300, 119300, 119300, 119300, 119300, 119300, 119300, 119300, 119300, 119300, 119300, 119300, 119300, 119300, 119300, 119300, 119300, 119300, 119300, 119300, 119300, 119300, 119300, 119300, 119300, 119300, 119300, 119300, 119300, 119300, 119300, 119300, 119300, 119300, 119300, 119300, 119300, 119300, 119300, 119300, 119300, 119300, 119300, 119300, 119300, 119300, 119300, 119300, 119300, 119300, 119300, 119300, 119300, 119300, 119300, 119300, 119300, 119300, 119300, 119300, 119300, 119300, 119300, 119300, 119300, 119300, 119300, 119300, 119300, 119300, 119300, 119300, 119300, 119300, 119300, 119300, 119300, 119300, 119300, 119300, 119300, 119300, 119300, 119300, 119300, 119300, 119300, 119300, 119300, 119300, 119300, 119300, 119300, 119300, 119300, 119300, 119300, 119300, 119300, 119300, 119300, 119300, 119300, 119300, 119300, 119300, 119300, 119300, 119300, 119300, 119300, 119300, 119300, 119300, 119300, 119300, 119300, 119300, 119300, 119300, 119300, 119300, 119300, 119300, 119300, 119300, 119300, 119300, 119300, 119300, 119300, 119300, 119300, 119300, 119300, 119300, 119300, 119300, 119300, 119300, 119300, 119300, 119300, 119300, 119300, 119300, 119300, 119300, 119300, 119300, 119300, 119300, 119300, 119300, 119300, 119300, 119300, 119300, 119300, 119300, 119300, 119300, 119300, 119300, 119300, 119300, 119300, 119300, 119300, 119300, 119300, 119300, 119300, 119300, 119300, 119300, 119300, 119300, 119300, 119300, 119300, 119300, 119300, 119300, 119300, 119300, 119300, 119300, 119300, 119300, 119300, 119300, 119300, 119300, 119300, 119300, 119300, 119300, 119300, 119300, 119300, 119300, 119300, 119300, 119300, 119300, 119300, 119300, 119300, 119300, 119300, 119300, 119300, 119300, 119300, 119300, 119300, 119300, 119300, 119300, 119300, 119300, 119300, 119300, 119300, 119300, 119300, 119300, 119300, 119300, 119300, 119300, 119300, 119300, 119300, 119300, 119300, 119300, 119300, 119300, 119300, 119300, 119300, 119300, 119300, 119300, 119300, 119300, 119300, 119300, 119300, 119300, 119300, 119300, 119300, 119300, 119300, 119300, 119300, 119300, 119300, 119300, 119300, 119300, 119300, 119300, 119300, 119300, 119300, 119300, 119300, 119300, 119300, 119300, 119300, 119300, 119300, 119300, 119300, 119300, 119300, 119300, 119300, 119300, 119300, 119300, 119300, 119300, 119300, 119300, 119300, 119300, 119300, 119300, 119300, 119300, 119300, 119300, 119300, 119300, 119300, 119300, 119300, 119300, 119300, 119300, 119300, 119300, 119300, 119300, 119300, 119300, 119300, 119300, 119300, 119300, 119300, 119300, 119300, 119300, 119300, 119300, 119300, 119300, 119300, 119300, 119300, 119300, 119300, 119300, 119300, 119300, 119300, 119300, 119300, 119300, 119300, 119300, 119300, 119300, 119300, 119300, 119300, 119300, 119300, 119300, 119300, 119300, 119300, 119300, 119300, 119300, 119300, 119300, 119300, 119300, 119300, 119300, 119300, 119300, 119300, 119300, 119300, 119300, 119300, 119300, 119300, 119300, 119300, 119300, 119300, 119300, 119300, 119300, 119300, 119300, 119300, 119300, 119300, 119300, 119300, 119300, 119300, 119300, 119300, 119300, 119300, 119300, 119300, 119300, 119300, 119300, 119300, 119300, 119300, 119300, 119300, 119300, 119300, 119300, 119300, 119300, 119300, 119300, 119300, 119300, 119300, 119300, 119300, 119300, 119300, 119300, 119300, 119300, 119300, 119300, 119300, 119300, 119300, 119300, 119300, 119300, 119300, 119300, 119300, 119300, 119300, 119300, 119300, 119300, 119300, 119300, 119300, 119300, 119300, 119300, 119300, 119300, 119300, 119300, 119300, 119300, 119300, 119300, 119300, 119300, 119300, 119300, 119300, 119300, 119300, 119300, 119300, 119300, 119300, 119300, 119300, 119300, 119300, 119300, 119300, 119300, 119300, 119300, 119300, 119300, 119300, 119300, 119300, 119300, 119300, 119300, 119300, 119300, 119300, 119300, 119300, 119300, 119300, 119300, 119300, 119300, 119300, 119300, 119300, 119300, 119300, 119300, 119300, 119300, 119300, 119300, 119300, 119300, 119300, 119300, 119300, 119300, 119300, 119300, 119300, 119300, 119300, 119300, 119300, 119300, 119300, 119300, 119300, 119300, 119300, 119300, 119300, 119300, 119300, 119300, 119300, 119300, 119300, 119300, 119300, 119300, 119300, 119300, 119300, 119300, 119300, 119300, 119300, 119300, 119300, 119300, 119300, 119300, 119300, 119300, 119300, 119300, 119300, 119300, 119300, 119300, 119300, 119300, 119300, 119300, 119300, 119300, 119300, 119300, 119300, 119300, 119300, 119300, 119300, 119300, 119300, 119300, 119300, 119300, 119300, 119300, 119300, 119300, 119300, 119300, 119300, 119300, 119300, 119300, 119300]\n"
          ]
        }
      ]
    },
    {
      "cell_type": "code",
      "source": [
        "print(test_output)"
      ],
      "metadata": {
        "colab": {
          "base_uri": "https://localhost:8080/"
        },
        "id": "1vWi0DAtNXm6",
        "outputId": "4f0281f1-c45f-4f04-8aeb-f2133ca75917"
      },
      "execution_count": null,
      "outputs": [
        {
          "output_type": "stream",
          "name": "stdout",
          "text": [
            "[ 84900  77000  67600  45500  82900  60500  49900  69400  70000  62000\n",
            "  92000  78900  75000  95500  59600  69900  95600  87100  53600  35900\n",
            "  70500  74400  57100  72800  96000 109900 115400 106900  62200  40300\n",
            "  58800  93200  60700  89500  52600 100400  73400 107800  95800  75900\n",
            " 101000  76400  87700  84300  64600  75800  93100  73300  78500  96700\n",
            "  46100  99400  87400 103400 102200  81400  85600  67300  83500  91000\n",
            "  73200  42100  47800  86600 115600  65900  59500  75600 100900  81200\n",
            "  66300  66100  55300  73800  79700  92200  97900  79400  81700  54600\n",
            "  87800  71600  89200  96100  95700  69100  80900 118100  95300  92300\n",
            "  59300  71600  80000  52600  45900  67300  75900  75800  54300  95800\n",
            "  80500  75100  63400  95200  86400  98400  66500  58500  69600  68400\n",
            "  79000  87200 101700  55900  66200  56300  92500  79500  83800  96200\n",
            "  88000  63600  72400  86200  88500  50000  68400  88500  51100  67000\n",
            "  57700  71300  81300  66100  95200  83700  69500  70100  61500  59100\n",
            "  89100  73800  60600  96000  72700  56100  64100  75600 108100  74100\n",
            "  96800  72900  48500  73000 101400  71300  83600  80100  37300  69000\n",
            "  78500  64000  83600  98100  70100  95200 111000  74400  79700  93200\n",
            "  82300  90800  72900  57700  67100  57000  90900  58400  62000  74400\n",
            "  73600  89900  79900  59600  76500  95600  80300  60300  54500  97500\n",
            "  71300  90700  72900  37500  81600  67800  98700 103900  98900  95600]\n"
          ]
        }
      ]
    }
  ]
}